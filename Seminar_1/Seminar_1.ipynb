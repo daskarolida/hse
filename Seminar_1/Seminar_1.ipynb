{
 "cells": [
  {
   "cell_type": "markdown",
   "metadata": {},
   "source": [
    "** Контакт **: arina.a.ageeva@gmail.com (Арина Агеева)"
   ]
  },
  {
   "cell_type": "markdown",
   "metadata": {},
   "source": [
    "# Работа с Git\n",
    "\n",
    "** [Установка git](https://git-scm.com/book/en/v2/Getting-Started-Installing-Git) **\n",
    "\n",
    "*$ sudo apt-get install git-all*\n",
    "\n",
    "**Если не получилось**, то попробуйте так:\n",
    "\n",
    "*sudo apt-get purge runit*\n",
    "\n",
    "*sudo apt-get purge git-all*\n",
    "\n",
    "*sudo apt-get purge git*\n",
    "\n",
    "*sudo apt-get autoremove*\n",
    "\n",
    "*sudo apt update*\n",
    "\n",
    "*sudo apt-get install git-daemon-sysvinit*\n",
    "\n",
    "*sudo apt-get install git-all*\n",
    "\n",
    "**Создаём акаунт** на [GitHub](https://github.com/)\n",
    "\n",
    "Создаём у себя в профиле новый репозиторий\n",
    "\n",
    "Ссылка на репозиторий нашего курса: https://github.com/arinaaageeva/python_nlp_2.git\n",
    "\n",
    "**Создаём папочку** у себя на компьютере\n",
    "\n",
    "Запускаем командную строку и переходим в созданную нами папку с помощью команды *cd*\n",
    "\n",
    "Выполняем команду: *git init*\n",
    "\n",
    "Связываем репозиторий на GitHub с локальным (папочкой на компьютере):\n",
    "\n",
    "*git remote add origin <url>*  \n",
    "\n",
    "Что бы добавить некоторый объект в репозиторий выполняем: \n",
    "\n",
    "*git add <объект>*\n",
    "\n",
    "*git commit -m '<ваш коментарий>'*\n",
    "\n",
    "*git push -u origin master*\n",
    "\n",
    "**Клонируем репозиторий** на компьютер:\n",
    "\n",
    "*git clone <url>*"
   ]
  },
  {
   "cell_type": "markdown",
   "metadata": {},
   "source": [
    "# Введение в Python\n",
    "\n",
    "## Система типов\n",
    "\n",
    "**Язык программирования** – формальная знаковая система, предназначенная для записи компьютерных программ. Язык программирования определяет набор лексических, синтаксических и семантических правил, задающих внешний вид программы и действия, которые выполнит исполнитель (компьютер) под ее управлением.\n",
    "\n",
    "Современные цифровые компьютеры являются двоичными и данные хранят в двоичном (бинарном) коде (хотя возможны реализации и в других системах счисления). Эти данные как правило отражают информацию из реального мира (имена, банковские счета, измерения и др.), представляющую высокоуровневые концепции.\n",
    "\n",
    "Особая система, по которой данные организуются в программе – это **система типов языка программирования**. Языки могут быть классифицированы как системы со **статической типизацией** и языки с **динамической типизацией**.\n",
    "\n",
    "При **статической типизации** переменная, параметр программы, возвращаемое значение функции связывается с типом в момент объявления и тип не может быть изменён позже. Примеры статически типизированных языков – Ада, С++, Java, Паскаль. Статически-типизированные языки могут быть в дальнейшем подразделены на языки с обязательной деклара-\n",
    "цией, где каждая переменная и объявление функции имеет обязательное объявление типа, и языки с выводимыми типами.\n",
    "\n",
    "Плюс статической типизации: хороша для написания сложного, но быстрого кода; многие ошибки исключаются уже на стадии компиляции.\n",
    "\n",
    "Минус статической типизации: тяжело работать с данными из внешних источников.\n",
    "\n",
    "При **динамической типизации** переменная связывается с типом в момент присваивания значения, а не в момент объявления переменной. Таким образом, в различных участках программы одна и та же переменная мо-\n",
    "жет принимать значения разных типов. Примеры языков с динамической типизацией – **Python**, Ruby, PHP, Perl, JavaScript, Lisp.\n",
    "\n",
    "Плюсы динамической типизации: (1) упрощается написание несложных программ; (2) иногда требуется работать с данными переменного типа (например, функция поиска подстроки возвращает позицию найденного символа или маркер \"не найдено\"); (3) облегчается работа с СУБД, которые принципиально возвращают информацию в \"динамически типизированном\" виде.\n",
    "\n",
    "Минусы динамической типизации: (1) не позволяет заметить при компиляции простые \"ошибки по недосмотру\" – требуется как минимум выполнить данный участок кода; (2) снижение производительности из-за трат процессорного времени на динамическую проверку типа."
   ]
  },
  {
   "cell_type": "markdown",
   "metadata": {},
   "source": [
    "## Типы данных. Числа и логические переменные"
   ]
  },
  {
   "cell_type": "markdown",
   "metadata": {},
   "source": [
    "### Числа"
   ]
  },
  {
   "cell_type": "code",
   "execution_count": 1,
   "metadata": {},
   "outputs": [
    {
     "name": "stdout",
     "output_type": "stream",
     "text": [
      "a = 1 <class 'int'>\n",
      "a = 1 <class 'float'>\n",
      "a = 1.0+1.0i <class 'complex'>\n"
     ]
    }
   ],
   "source": [
    "a = 1\n",
    "print('a = %d'%a, type(a))\n",
    "a = 1.0\n",
    "print('a = %d'%a, type(a))\n",
    "a = complex(1, 1)\n",
    "print('a = %.1f+%.1fi'%(a.real, a.imag), type(a))"
   ]
  },
  {
   "cell_type": "markdown",
   "metadata": {},
   "source": [
    "**Пример приведение типов**"
   ]
  },
  {
   "cell_type": "code",
   "execution_count": 3,
   "metadata": {},
   "outputs": [
    {
     "name": "stdout",
     "output_type": "stream",
     "text": [
      "a = 1 <class 'int'>\n",
      "b = 3 <class 'int'>\n",
      "c = 0.3333333333333333 <class 'float'>\n"
     ]
    }
   ],
   "source": [
    "a = 1\n",
    "b = 3\n",
    "\n",
    "c = a/b\n",
    "\n",
    "print('a =', a, type(a))\n",
    "print('b =', b, type(b))\n",
    "print('c =', c, type(c))"
   ]
  },
  {
   "cell_type": "markdown",
   "metadata": {},
   "source": [
    "**\"Ошибки\" приведения типов**\n",
    "\n",
    "Равны ли *a* и *b*?"
   ]
  },
  {
   "cell_type": "code",
   "execution_count": 5,
   "metadata": {
    "collapsed": true
   },
   "outputs": [],
   "source": [
    "a = 0.3 \n",
    "b = 3 * 0.1"
   ]
  },
  {
   "cell_type": "markdown",
   "metadata": {},
   "source": [
    "Невероятно, но факт: Нет =)"
   ]
  },
  {
   "cell_type": "code",
   "execution_count": 6,
   "metadata": {},
   "outputs": [
    {
     "data": {
      "text/plain": [
       "False"
      ]
     },
     "execution_count": 6,
     "metadata": {},
     "output_type": "execute_result"
    }
   ],
   "source": [
    "a == b"
   ]
  },
  {
   "cell_type": "code",
   "execution_count": 11,
   "metadata": {},
   "outputs": [
    {
     "name": "stdout",
     "output_type": "stream",
     "text": [
      "a = 0.3\n",
      "b = 0.30000000000000004\n"
     ]
    }
   ],
   "source": [
    "print('a =', a)\n",
    "print('b =', b)"
   ]
  },
  {
   "cell_type": "markdown",
   "metadata": {},
   "source": [
    "**Стандартные опирации с числами**\n",
    "\n",
    "Кроме деления (/) и умножения (\\*), очевидно, ещё можно производить сложение (+) и вычитание (-).\n",
    "\n",
    "А также:"
   ]
  },
  {
   "cell_type": "code",
   "execution_count": 12,
   "metadata": {},
   "outputs": [
    {
     "name": "stdout",
     "output_type": "stream",
     "text": [
      "a = 0 <class 'int'>\n"
     ]
    }
   ],
   "source": [
    "#деление без остатка\n",
    "a = 1//3\n",
    "print('a =', a, type(a))"
   ]
  },
  {
   "cell_type": "code",
   "execution_count": 14,
   "metadata": {},
   "outputs": [
    {
     "name": "stdout",
     "output_type": "stream",
     "text": [
      "a = 1 <class 'int'>\n"
     ]
    }
   ],
   "source": [
    "#остаток от деления\n",
    "a = 5%2\n",
    "print('a =', a, type(a))"
   ]
  },
  {
   "cell_type": "code",
   "execution_count": 15,
   "metadata": {},
   "outputs": [
    {
     "name": "stdout",
     "output_type": "stream",
     "text": [
      "a = 25 <class 'int'>\n"
     ]
    }
   ],
   "source": [
    "#возведение в степень\n",
    "a = 5**2\n",
    "print('a =', a, type(a))"
   ]
  },
  {
   "cell_type": "markdown",
   "metadata": {},
   "source": [
    "Много других возможностей для работы с числами можно найти в модуле [math](https://docs.python.org/3/library/math.html) "
   ]
  },
  {
   "cell_type": "code",
   "execution_count": 17,
   "metadata": {},
   "outputs": [
    {
     "name": "stdout",
     "output_type": "stream",
     "text": [
      "Pi = 3.141593\n",
      "sqrt(Pi) = 1.772454\n"
     ]
    }
   ],
   "source": [
    "import math \n",
    "\n",
    "pi_number = math.pi\n",
    "print('Pi = %.6f'%pi_number)\n",
    "\n",
    "sqrt_pi = math.sqrt(math.pi)\n",
    "print('sqrt(Pi) = %.6f'%sqrt_pi)"
   ]
  },
  {
   "cell_type": "markdown",
   "metadata": {},
   "source": [
    "### Логические переменные"
   ]
  },
  {
   "cell_type": "code",
   "execution_count": 36,
   "metadata": {},
   "outputs": [
    {
     "data": {
      "text/plain": [
       "(True, False)"
      ]
     },
     "execution_count": 36,
     "metadata": {},
     "output_type": "execute_result"
    }
   ],
   "source": [
    "True, False"
   ]
  },
  {
   "cell_type": "code",
   "execution_count": 37,
   "metadata": {},
   "outputs": [
    {
     "name": "stdout",
     "output_type": "stream",
     "text": [
      "1 == 0 - False\n",
      "1 > 0 - True\n",
      "1 != 0 - True\n"
     ]
    }
   ],
   "source": [
    "print('1 == 0 - %r\\n1 > 0 - %r\\n1 != 0 - %r'%(1 == 0, 1 > 0, 1 != 0))"
   ]
  },
  {
   "cell_type": "code",
   "execution_count": 38,
   "metadata": {},
   "outputs": [
    {
     "name": "stdout",
     "output_type": "stream",
     "text": [
      "0 -> False\n",
      "1 -> True\n",
      "\n",
      "[] -> False\n",
      "[None] -> True\n",
      "\n"
     ]
    }
   ],
   "source": [
    "print('0 -> %r\\n1 -> %r\\n'%(bool(0), bool(1)))\n",
    "print('[] -> %r\\n[None] -> %r\\n'%(bool([]), bool([None])))"
   ]
  }
 ],
 "metadata": {
  "kernelspec": {
   "display_name": "Python 3",
   "language": "python",
   "name": "python3"
  },
  "language_info": {
   "codemirror_mode": {
    "name": "ipython",
    "version": 3
   },
   "file_extension": ".py",
   "mimetype": "text/x-python",
   "name": "python",
   "nbconvert_exporter": "python",
   "pygments_lexer": "ipython3",
   "version": "3.5.2"
  }
 },
 "nbformat": 4,
 "nbformat_minor": 2
}
