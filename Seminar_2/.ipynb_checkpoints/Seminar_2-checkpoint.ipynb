{
 "cells": [
  {
   "cell_type": "markdown",
   "metadata": {},
   "source": [
    "## Введение в Python. Типы данных. Списки и строки"
   ]
  },
  {
   "cell_type": "markdown",
   "metadata": {},
   "source": [
    "### Списки\n",
    "\n",
    "-- упорядоченные по местоположению коллекции объектов произвольных типов, размер которых не ограничен"
   ]
  },
  {
   "cell_type": "code",
   "execution_count": 1,
   "metadata": {},
   "outputs": [
    {
     "name": "stdout",
     "output_type": "stream",
     "text": [
      "[1, 'a', [2, 'b']] <class 'list'>\n",
      "Длинна списка - 3\n",
      "Нулевой элемент списка равен - 1 , а последний - [2, 'b']\n"
     ]
    }
   ],
   "source": [
    "my_list = [1, 'a', [2, 'b']]\n",
    "print(my_list, type(my_list))\n",
    "print('Длинна списка - %d'%len(my_list))\n",
    "print('Нулевой элемент списка равен -', my_list[0], ', а последний -', my_list[-1])"
   ]
  },
  {
   "cell_type": "markdown",
   "metadata": {},
   "source": [
    "**Срезы**"
   ]
  },
  {
   "cell_type": "code",
   "execution_count": 2,
   "metadata": {},
   "outputs": [
    {
     "name": "stdout",
     "output_type": "stream",
     "text": [
      "Срез от 0 элемента до 2 второго (2ой не включается): [1, 'a']\n"
     ]
    }
   ],
   "source": [
    "print('Срез от 0 элемента до 2 второго (2ой не включается):', my_list[0:2]) "
   ]
  },
  {
   "cell_type": "markdown",
   "metadata": {},
   "source": [
    "Аналогично my_list[0:2] можно записать my_list[:2].\n",
    "\n",
    "Если номер левой границы среза опущен, то по уполчанию отсчет идет от начала списка т.е. от позиции 0.\n",
    "\n",
    "Если опущен номер правой границы (правая граница не включается при срезе), то по умолчанию берутся все элементы до конца списка."
   ]
  },
  {
   "cell_type": "code",
   "execution_count": 3,
   "metadata": {},
   "outputs": [
    {
     "name": "stdout",
     "output_type": "stream",
     "text": [
      "Срез от 1 элемента до конца списка: ['a', [2, 'b']]\n"
     ]
    }
   ],
   "source": [
    "print('Срез от 1 элемента до конца списка:', my_list[1:]) "
   ]
  },
  {
   "cell_type": "markdown",
   "metadata": {},
   "source": [
    "Отрицательные индексы также работают."
   ]
  },
  {
   "cell_type": "code",
   "execution_count": 5,
   "metadata": {},
   "outputs": [
    {
     "name": "stdout",
     "output_type": "stream",
     "text": [
      "Срез от первого с конца элемента (-1) до конца списка: [[2, 'b']]\n"
     ]
    }
   ],
   "source": [
    "print('Срез от первого с конца элемента (-1) до конца списка:', my_list[-1:])"
   ]
  },
  {
   "cell_type": "markdown",
   "metadata": {},
   "source": [
    "**Особенность оператора присваивания для списков**"
   ]
  },
  {
   "cell_type": "code",
   "execution_count": 6,
   "metadata": {},
   "outputs": [
    {
     "name": "stdout",
     "output_type": "stream",
     "text": [
      "array2: [1, 2, 3]\n",
      "array2: [1, 4, 3]\n",
      "array1: [1, 4, 3]\n"
     ]
    }
   ],
   "source": [
    "array1 = [1, 2, 3]\n",
    "array2 = array1\n",
    "print('array2:', array2)\n",
    "\n",
    "array2[1] = 4\n",
    "print('array2:', array2)\n",
    "\n",
    "#чему равен array1?\n",
    "print('array1:', array1)"
   ]
  },
  {
   "cell_type": "markdown",
   "metadata": {},
   "source": [
    "Если хочется этого избежать, то можно воспользоваться методом *copy* или модулем [copy](https://docs.python.org/2/library/copy.html)"
   ]
  },
  {
   "cell_type": "code",
   "execution_count": 7,
   "metadata": {},
   "outputs": [
    {
     "name": "stdout",
     "output_type": "stream",
     "text": [
      "array2: [1, 2, 3]\n",
      "array2: [1, 4, 3]\n",
      "array1: [1, 2, 3]\n"
     ]
    }
   ],
   "source": [
    "array1 = [1, 2, 3]\n",
    "array2 = array1.copy()\n",
    "print('array2:', array2)\n",
    "\n",
    "array2[1] = 4\n",
    "print('array2:', array2)\n",
    "\n",
    "print('array1:', array1)"
   ]
  },
  {
   "cell_type": "markdown",
   "metadata": {},
   "source": [
    "**Опирации над списками**"
   ]
  },
  {
   "cell_type": "code",
   "execution_count": 8,
   "metadata": {},
   "outputs": [
    {
     "name": "stdout",
     "output_type": "stream",
     "text": [
      "1. [1, 2, 3, 4]\n",
      "2. 4 [1, 2, 3]\n",
      "3. 2 [1, 3]\n",
      "4. [1, 3, 7, 5]\n",
      "5. None [1, 3, 5, 7]\n",
      "6. [1, 3, 5, 7] [1, 3, 7, 5]\n",
      "7. [5, 7, 3, 1]\n"
     ]
    }
   ],
   "source": [
    "array1 = [1, 2, 3]\n",
    "array1.append(4)\n",
    "print('1.', array1)\n",
    "print('2.', array1.pop(), array1)\n",
    "print('3.', array1.pop(1), array1)\n",
    "\n",
    "array1 = array1 + [7, 5] # array1 += [7, 5]\n",
    "print('4.', array1)\n",
    "\n",
    "print('5.', array1.sort(), array1)\n",
    "array1 = [1, 3, 7, 5]\n",
    "print('6.', sorted(array1), array1)\n",
    "\n",
    "array1.reverse()\n",
    "print('7.', array1)"
   ]
  },
  {
   "cell_type": "markdown",
   "metadata": {},
   "source": [
    "**Оператор IF** "
   ]
  },
  {
   "cell_type": "code",
   "execution_count": null,
   "metadata": {
    "collapsed": true
   },
   "outputs": [],
   "source": [
    "if Test1: #Инструкция if c условным выражением Test1\n",
    "    Statements1 #Ассоциированный блок \n",
    "elif Test2: #Необязательные части elif\n",
    "    Statements2 \n",
    "else: #Необязательный блок else\n",
    "    Statements3 "
   ]
  },
  {
   "cell_type": "code",
   "execution_count": 9,
   "metadata": {},
   "outputs": [
    {
     "name": "stdout",
     "output_type": "stream",
     "text": [
      "1: [1, 2]\n",
      "2: [1]\n"
     ]
    }
   ],
   "source": [
    "a = [1, 2, 3]\n",
    "\n",
    "if a != []:\n",
    "    a.pop()\n",
    "    print('1:', a)\n",
    "\n",
    "if a:\n",
    "    a.pop()\n",
    "    print('2:', a)"
   ]
  },
  {
   "cell_type": "markdown",
   "metadata": {},
   "source": [
    "**Проход по списку (итерирование). Оператор FOR** "
   ]
  },
  {
   "cell_type": "code",
   "execution_count": null,
   "metadata": {
    "collapsed": true
   },
   "outputs": [],
   "source": [
    "for Target in Object: #Связывает элементы объекта с переменной цикла\n",
    "    Statements #Повторяющееся тело цикла"
   ]
  },
  {
   "cell_type": "code",
   "execution_count": 10,
   "metadata": {},
   "outputs": [
    {
     "name": "stdout",
     "output_type": "stream",
     "text": [
      "a = [6, 7, 8, 9] \n",
      "b = [0, 1, 2, 3, 4, 11, 12, 13, 14]\n"
     ]
    }
   ],
   "source": [
    "a = []\n",
    "b = []\n",
    "for index in range(15):\n",
    "    if 5 < index < 10: #index > 5 and index < 10\n",
    "        a.append(index)\n",
    "    if index < 5 or index > 10:\n",
    "        b.append(index)\n",
    "print('a = {} \\nb = {}'.format(a, b))"
   ]
  },
  {
   "cell_type": "markdown",
   "metadata": {},
   "source": [
    "** Задача 1. ** Сформировать список из чётных элементов."
   ]
  },
  {
   "cell_type": "code",
   "execution_count": null,
   "metadata": {
    "collapsed": true
   },
   "outputs": [],
   "source": [
    "A = [1, 4, 9, 16, 25, 36, 49, 64, 81, 100]"
   ]
  },
  {
   "cell_type": "markdown",
   "metadata": {},
   "source": [
    "** Задача 2.** Сформировать список элементов, которые одновременно содержаться и в A, и в B (без дубликатов)."
   ]
  },
  {
   "cell_type": "code",
   "execution_count": null,
   "metadata": {
    "collapsed": true
   },
   "outputs": [],
   "source": [
    "A = [1, 1, 2, 3, 5, 8, 13, 21, 34, 55, 89]\n",
    "B = [1, 2, 3, 4, 5, 6, 7, 8, 9, 10, 11, 12, 13]"
   ]
  },
  {
   "cell_type": "markdown",
   "metadata": {},
   "source": [
    "** Задача 3.** Придумать алгоритм, который позволил бы вырезать из списка все нулевые элементы и имел бы сложность O(n)"
   ]
  },
  {
   "cell_type": "code",
   "execution_count": null,
   "metadata": {
    "collapsed": true
   },
   "outputs": [],
   "source": [
    "A = [1, 0, 0, 1, 0, 2, 3, 0, 0, 5, 0, 8, 13, 0, 0, 0]"
   ]
  },
  {
   "cell_type": "markdown",
   "metadata": {},
   "source": [
    "** Вложенные списки **"
   ]
  },
  {
   "cell_type": "code",
   "execution_count": 11,
   "metadata": {},
   "outputs": [
    {
     "name": "stdout",
     "output_type": "stream",
     "text": [
      "Способ 1\n",
      "my_matrix[0][0] = 1\n",
      "my_matrix[1][1] = 5\n",
      "my_matrix[2][2] = 9\n",
      "Способ 2\n",
      "my_matrix[0][0] = 1\n",
      "my_matrix[1][1] = 5\n",
      "my_matrix[2][2] = 9\n",
      "Способ 3\n",
      "my_matrix[0][0] = 1\n",
      "my_matrix[1][1] = 5\n",
      "my_matrix[2][2] = 9\n",
      "Способ 4\n",
      " [1, 5, 9]\n"
     ]
    }
   ],
   "source": [
    "my_matrix = [[1, 2, 3], [4, 5, 6], [7, 8, 9]]\n",
    "\n",
    "#вывести на экран диагональные элементы\n",
    "print('Способ 1')\n",
    "for i in range(len(my_matrix)):\n",
    "    for j in range(len(my_matrix[i])):\n",
    "        if i == j:\n",
    "            print('my_matrix[%d][%d] = %d'%(i, j, my_matrix[i][j]))\n",
    "\n",
    "print('Способ 2')\n",
    "for i, row in enumerate(my_matrix):\n",
    "    for j, element in enumerate(row):\n",
    "        if i==j:\n",
    "            print('my_matrix[%d][%d] = %d'%(i, j, element))\n",
    "\n",
    "print('Способ 3')\n",
    "for i, row in enumerate(my_matrix):\n",
    "    print('my_matrix[%d][%d] = %d'%(i, i, row[i]))\n",
    "\n",
    "print('Способ 4\\n', [row[i] for i, row in enumerate(my_matrix)])"
   ]
  },
  {
   "cell_type": "markdown",
   "metadata": {},
   "source": [
    "**Задача 4.** Посчитать сумму всех элементов объекта my_matrix"
   ]
  },
  {
   "cell_type": "code",
   "execution_count": null,
   "metadata": {
    "collapsed": true
   },
   "outputs": [],
   "source": []
  },
  {
   "cell_type": "markdown",
   "metadata": {},
   "source": [
    "### Строки"
   ]
  },
  {
   "cell_type": "code",
   "execution_count": 12,
   "metadata": {},
   "outputs": [
    {
     "name": "stdout",
     "output_type": "stream",
     "text": [
      "Hello, World!\n",
      "<class 'str'>\n",
      "Length 13\n"
     ]
    }
   ],
   "source": [
    "string = 'Hello, World!'\n",
    "print(string)\n",
    "print(type(string))\n",
    "print('Length %d'%len(string))"
   ]
  },
  {
   "cell_type": "code",
   "execution_count": 13,
   "metadata": {},
   "outputs": [
    {
     "name": "stdout",
     "output_type": "stream",
     "text": [
      "Char 0 -- H\n",
      "Char 1 -- e\n",
      "Char 2 -- l\n",
      "Char 3 -- l\n",
      "Char 4 -- o\n",
      "Char 5 -- ,\n",
      "Char 6 --  \n",
      "Char 7 -- W\n",
      "Char 8 -- o\n",
      "Char 9 -- r\n",
      "Char 10 -- l\n",
      "Char 11 -- d\n",
      "Char 12 -- !\n"
     ]
    }
   ],
   "source": [
    "#отдельные символы строки можно извлечь с помощью выражений индексирования\n",
    "for i in range(len(string)):\n",
    "    print('Char %d -- %c'%(i, string[i]))"
   ]
  },
  {
   "cell_type": "code",
   "execution_count": 14,
   "metadata": {},
   "outputs": [
    {
     "name": "stdout",
     "output_type": "stream",
     "text": [
      "Hello  World\n"
     ]
    }
   ],
   "source": [
    "#как и для списков придусмотрены срезы и возможность индексации в обратном порядке\n",
    "print('%s %s'%(string[:5], string[-7:-1]))"
   ]
  },
  {
   "cell_type": "code",
   "execution_count": 15,
   "metadata": {},
   "outputs": [
    {
     "data": {
      "text/plain": [
       "\"Hello, World! I'm born =)\""
      ]
     },
     "execution_count": 15,
     "metadata": {},
     "output_type": "execute_result"
    }
   ],
   "source": [
    "#конкатенация строк\n",
    "string+' I\\'m born =)'"
   ]
  },
  {
   "cell_type": "markdown",
   "metadata": {},
   "source": [
    "Обратите внимание, что знак плюс (+) имеет различное значение для разных объектов: для чисел – сложение, а для строк – конкатенация. Это универсальное свойство языка Python, которое называется полиморфизмом, означает, что фактически выполняемая операция зависит от объектов, которые принимают в ней участие."
   ]
  },
  {
   "cell_type": "code",
   "execution_count": 16,
   "metadata": {},
   "outputs": [
    {
     "ename": "TypeError",
     "evalue": "'str' object does not support item assignment",
     "output_type": "error",
     "traceback": [
      "\u001b[0;31m---------------------------------------------------------------------------\u001b[0m",
      "\u001b[0;31mTypeError\u001b[0m                                 Traceback (most recent call last)",
      "\u001b[0;32m<ipython-input-16-462543fa6e87>\u001b[0m in \u001b[0;36m<module>\u001b[0;34m()\u001b[0m\n\u001b[1;32m      1\u001b[0m \u001b[0;31m#строки неизменяемые!!!\u001b[0m\u001b[0;34m\u001b[0m\u001b[0;34m\u001b[0m\u001b[0m\n\u001b[0;32m----> 2\u001b[0;31m \u001b[0mstring\u001b[0m\u001b[0;34m[\u001b[0m\u001b[0;36m0\u001b[0m\u001b[0;34m]\u001b[0m \u001b[0;34m=\u001b[0m \u001b[0;34m'Y'\u001b[0m\u001b[0;34m\u001b[0m\u001b[0m\n\u001b[0m",
      "\u001b[0;31mTypeError\u001b[0m: 'str' object does not support item assignment"
     ]
    }
   ],
   "source": [
    "#строки неизменяемые!!!\n",
    "string[0] = 'Y'"
   ]
  },
  {
   "cell_type": "code",
   "execution_count": 17,
   "metadata": {},
   "outputs": [
    {
     "name": "stdout",
     "output_type": "stream",
     "text": [
      "The World in the string starts with the 7\n",
      "There is no Space in the string\n"
     ]
    }
   ],
   "source": [
    "#методы специфичные для строк\n",
    "begin_index_w = string.find('World')\n",
    "begin_index_s = string.find('Space')\n",
    "\n",
    "for word, begin_index in zip(['World', 'Space'], [begin_index_w, begin_index_s]):\n",
    "    if begin_index != -1:\n",
    "        print(('The '+word+' in the string starts with the %d')%begin_index)\n",
    "    else:\n",
    "        print('There is no '+word+' in the string')"
   ]
  },
  {
   "cell_type": "code",
   "execution_count": 18,
   "metadata": {},
   "outputs": [
    {
     "data": {
      "text/plain": [
       "'Hello, Space!'"
      ]
     },
     "execution_count": 18,
     "metadata": {},
     "output_type": "execute_result"
    }
   ],
   "source": [
    "string.replace('World', 'Space')"
   ]
  },
  {
   "cell_type": "code",
   "execution_count": 19,
   "metadata": {},
   "outputs": [
    {
     "name": "stdout",
     "output_type": "stream",
     "text": [
      "List:   ['Hello', ' World!']\n",
      "String: Hello, World!\n"
     ]
    }
   ],
   "source": [
    "words = string.split(',')\n",
    "print('List:   %s'%words)\n",
    "string = ','.join(words)\n",
    "print('String: %s'%string)"
   ]
  },
  {
   "cell_type": "code",
   "execution_count": 20,
   "metadata": {},
   "outputs": [
    {
     "data": {
      "text/plain": [
       "'HELLO, WORLD!; hello, world!'"
      ]
     },
     "execution_count": 20,
     "metadata": {},
     "output_type": "execute_result"
    }
   ],
   "source": [
    "'{0}; {1}'.format(string.upper(), string.lower())"
   ]
  },
  {
   "cell_type": "markdown",
   "metadata": {},
   "source": [
    "**Задача 5.** Определить процент строчных и прописных букв в строке "
   ]
  },
  {
   "cell_type": "code",
   "execution_count": 21,
   "metadata": {},
   "outputs": [
    {
     "name": "stdout",
     "output_type": "stream",
     "text": [
      "В программировании, строковый тип (англ. string - нить, вереница) - тип данных, значениями которого является произвольная последовательность (строка) символов алфавита. Каждая переменная такого типа (строковая переменная) может быть представлена фиксированным количеством байтов либо иметь произвольную длину.\n"
     ]
    }
   ],
   "source": [
    "string = 'В программировании, строковый тип (англ. string - нить, вереница) - тип данных, значениями которого является произвольная последовательность (строка) символов алфавита. Каждая переменная такого типа (строковая переменная) может быть представлена фиксированным количеством байтов либо иметь произвольную длину.'\n",
    "print(string)"
   ]
  },
  {
   "cell_type": "code",
   "execution_count": null,
   "metadata": {
    "collapsed": true
   },
   "outputs": [],
   "source": []
  },
  {
   "cell_type": "markdown",
   "metadata": {},
   "source": [
    "**Задача 6. ** Вывести на экран самое длинное слово в строке string и его длинну"
   ]
  },
  {
   "cell_type": "code",
   "execution_count": null,
   "metadata": {
    "collapsed": true
   },
   "outputs": [],
   "source": []
  },
  {
   "cell_type": "markdown",
   "metadata": {},
   "source": [
    "**Задача 7.** Проверить является ли палиндромом каждый элемент списка"
   ]
  },
  {
   "cell_type": "code",
   "execution_count": 22,
   "metadata": {
    "collapsed": true
   },
   "outputs": [],
   "source": [
    "Phrases = [u'Ежу хуже', u'Лев осовел', u'Зона заноз', u'Из искры возгорится пламя', u'Неуч учуен', u'Утоп в поту', \n",
    "           u'Маска как сам', u'Чем нежен меч', u'Отмывать деньги', u'Профессор кислых щей', u'Накрыться медным тазом', \n",
    "           u'Там холм лохмат', u'Он рёва наверно', u'Вид усов осудив', u'Лев с ума ламу свёл', u'Тёртый калач']"
   ]
  },
  {
   "cell_type": "code",
   "execution_count": null,
   "metadata": {
    "collapsed": true
   },
   "outputs": [],
   "source": []
  }
 ],
 "metadata": {
  "kernelspec": {
   "display_name": "Python 3",
   "language": "python",
   "name": "python3"
  },
  "language_info": {
   "codemirror_mode": {
    "name": "ipython",
    "version": 3
   },
   "file_extension": ".py",
   "mimetype": "text/x-python",
   "name": "python",
   "nbconvert_exporter": "python",
   "pygments_lexer": "ipython3",
   "version": "3.5.2"
  }
 },
 "nbformat": 4,
 "nbformat_minor": 2
}
